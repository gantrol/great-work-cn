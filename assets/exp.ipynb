{
 "cells": [
  {
   "cell_type": "markdown",
   "source": [
    "为这个小节配图\n",
    "\n",
    "## 6 持续：聚沙成塔，指数增长\n",
    "\n",
    "“大事”通常需要在问题上投入大量时间，这是大多数人无法接受的。你不能视这段时间为成本，否则它会看起来太高。你必须在事情中找到足够的乐趣。\n",
    "\n",
    "可能有一些工作，迫使你在讨厌的事情上辛勤劳作好几年，才能找到乐趣，但“大事”不是这样的。“大事”是通过持续专注于你真正感兴趣的事情来实现的。当你停下来复盘，你会惊讶于你走了多远。\n",
    "\n",
    "惊讶的原因是低估了工作的累积效果。每天写一页看起来不算什么，但如果你每天都这样做，你每年就会写一本书。这就是关键：**持续**。“干大事”的人不是每天都做很多事情。他们做了一些事情，而不是什么都不做。\n",
    "\n",
    "如果你做的工作能产生复利，你将有指数级增长。大多数这样做的人都是在无意识的情况下做的，但这值得我们停下来思考。一个例子是学习：你对某件事情了解得越多，学习更多的东西就越容易。另一个例子是扩大受众群：你拥有的粉丝越多，他们会给你带来更多的新粉丝。\n",
    "\n",
    "指数增长的问题在于，曲线在一开始时感觉是平的。实际上并非如此；它依然是一个美妙的指数曲线。但我们无法直观地理解这一点，所以我们在早期阶段低估了指数增长。\n",
    "\n",
    "指数增长的事物可以变得如此有价值，以至于值得我们做出特殊的努力来启动它。但由于我们在早期阶段低估了指数增长，所以这主要还是在无意识中完成的：人们之所以能完成在学习新东西的、没有回报的最初阶段，是因为他们从经验中知道，学习新东西总是需要一个最初推动力，或者他们一次吸引一个粉丝，因为他们没有更好的选择。如果人们意识到他们可以投资于指数增长，会有更多的人去做这件事。"
   ],
   "metadata": {
    "collapsed": false
   }
  },
  {
   "cell_type": "markdown",
   "source": [
    "对于这个段落，我认为可以考虑以下几种图像的设计元素：\n",
    "\n",
    "聚沙成塔：展示一个人或者一组人正在将一堆小石头或沙粒堆积起来，形成一个大的建筑物或者塔。这可以形象地传达\"持续\"和\"累积效果\"的概念。\n",
    "\n",
    "指数增长曲线：画出一个指数增长曲线，显示在初始阶段，增长看起来是缓慢的，但随着时间的推移，增长速度变得越来越快。这可以解释段落中的\"指数增长\"的概念。\n",
    "\n",
    "写作和阅读：显示一个人每天都在写或读一些东西，表现出每天的进步和积累。\n",
    "\n",
    "粉丝增长：显示一个人的粉丝基数在不断增长，可能开始的时候只有一两个人，但随着时间的推移，人数在快速增长。\n",
    "\n",
    "以上元素可以组合在一张图中，也可以分别展示在几张图中。每个元素都可以为文本中的关键概念提供可视化的解释。"
   ],
   "metadata": {
    "collapsed": false
   }
  },
  {
   "cell_type": "markdown",
   "source": [
    "用 Python 为它配图"
   ],
   "metadata": {
    "collapsed": false
   }
  },
  {
   "cell_type": "markdown",
   "source": [
    "这是一个较为复杂的问题，因为你的段落涉及到多个概念，包括持续的努力、指数增长、以及在早期阶段容易低估这种增长。我将尝试使用 Python 的 Matplotlib 库创建一个简单的指数增长曲线图，这个图将展示在早期阶段，指数增长看起来相对缓慢，但随着时间的推移，增长速度会显著加快。\n",
    "\n",
    "我们可以假设这是一个人每天学习新知识或技能的情况，而学习的效率或速度在逐步提高，表现出指数增长的特性。\n",
    "\n",
    "我们将 x 轴设置为时间（例如天数），y 轴设置为学习到的知识或技能的总量。这样，我们可以清楚地看到随着时间的推移，学习的速度是如何加快的。\n",
    "\n",
    "我将开始编写 Python 代码来生成这个图。"
   ],
   "metadata": {
    "collapsed": false
   }
  },
  {
   "cell_type": "code",
   "execution_count": null,
   "outputs": [],
   "source": [
    "import numpy as np\n",
    "import matplotlib.pyplot as plt\n",
    "plt.rcParams"
   ],
   "metadata": {
    "collapsed": false
   }
  },
  {
   "cell_type": "code",
   "execution_count": null,
   "metadata": {
    "collapsed": true
   },
   "outputs": [],
   "source": [
    "\n",
    "plt.rcParams['font.sans-serif'] = ['STFangsong', 'Yuanti SC', 'Kai']  # 设置字体为 SimHei,  命令行找fc-list :lang=zh family\n",
    "plt.rcParams['font.family'] = 'sans-serif'\n",
    "plt.rcParams['axes.unicode_minus'] = False  # 解决负号'-'显示为方块的问题\n",
    "\n",
    "# 设定 x 范围为 0 到 100（天数）\n",
    "x = np.linspace(0, 100, 1000)\n",
    "\n",
    "# 指数增长函数\n",
    "y = np.exp(x / 20)\n",
    "\n",
    "# 创建图形\n",
    "plt.figure(figsize=(10, 6))\n",
    "\n",
    "# 绘制指数增长曲线\n",
    "plt.plot(x, y, label='指数增长')\n",
    "\n",
    "# 添加标题和标签\n",
    "plt.title(u'持续学习与指数增长')\n",
    "plt.xlabel(u'时间 (天)')\n",
    "plt.ylabel(u'学习到的知识或技能总量')\n",
    "plt.legend()\n",
    "\n",
    "# 显示图形\n",
    "plt.grid(True)\n",
    "plt.show()\n"
   ]
  },
  {
   "cell_type": "markdown",
   "source": [
    "这张图清晰地描绘了指数增长的概念。在早期阶段，增长速度看起来较慢，几乎看不出明显的变化。然而，随着时间的推移，增长速度开始显著加快，形成了一条清晰的指数曲线。这也是你在段落中提到的，人们在早期阶段可能会低估指数增长的效果。对于个人成长和学习来说，尽管在早期可能看不出明显的成效，但只要持续地学习和积累，最终会看到指数级别的成长。\n",
    "\n",
    "我把这张图设计得比较简单，以便于突出主题。如果你想要更复杂或具体的图形，比如具有多个变量或者特殊的视觉效果，你可能需要使用专业的设计软件或者找一个专业的设计师来帮助你。"
   ],
   "metadata": {
    "collapsed": false
   }
  },
  {
   "cell_type": "markdown",
   "source": [
    "再画一张指数函数“早期”的图"
   ],
   "metadata": {
    "collapsed": false
   }
  },
  {
   "cell_type": "code",
   "execution_count": null,
   "outputs": [],
   "source": [
    "# 我们将 x 范围设定为 0 到 10，以放大指数增长在早期的表现\n",
    "x_early = np.linspace(0, 10, 1000)\n",
    "\n",
    "# 指数增长函数\n",
    "y_early = np.exp(x_early / 20)\n",
    "\n",
    "# 创建图形\n",
    "plt.figure(figsize=(10, 6))\n",
    "\n",
    "# 绘制指数增长曲线\n",
    "plt.plot(x_early, y_early, label='指数增长')\n",
    "\n",
    "# 添加标题和标签\n",
    "plt.title('持续学习与指数增长（早期阶段）')\n",
    "plt.xlabel('时间 (天)')\n",
    "plt.ylabel('学习到的知识或技能总量')\n",
    "plt.legend()\n",
    "\n",
    "# 显示图形\n",
    "plt.grid(True)\n",
    "plt.show()\n"
   ],
   "metadata": {
    "collapsed": false
   }
  },
  {
   "cell_type": "markdown",
   "source": [
    "这张图主要关注指数增长的早期阶段。在这个阶段，增长的速度相对较慢，可能看不出明显的进步。但是，这是积累和成长的重要阶段，只要保持持续的学习和积累，随着时间的推移，增长的速度将会显著加快，形成指数增长。\n",
    "\n",
    "这正是你在段落中提到的：在早期阶段，人们可能会低估指数增长的潜力。但只要我们不断坚持下去，就会看到知识和技能的积累带来的显著改变。\n",
    "\n",
    "这张图的设计也是比较简单的，主要是为了突出指数增长在早期阶段的特点。如果你需要更复杂或者具体的图形，你可能需要使用专业的设计软件或者寻求专业设计师的帮助。"
   ],
   "metadata": {
    "collapsed": false
   }
  },
  {
   "cell_type": "code",
   "execution_count": null,
   "outputs": [],
   "source": [],
   "metadata": {
    "collapsed": false
   }
  },
  {
   "cell_type": "markdown",
   "source": [
    "## 注\n",
    "\n",
    "你看到的警告信息是由于 Matplotlib 无法在当前字体中找到某些特定的字符（在这个例子中是 Unicode 字符 \"25345\"）。这个问题通常出现在尝试在图表上显示非英文字符时，例如中文。\n",
    "\n",
    "要解决这个问题，你需要确保你的环境中有一个支持你需要的字符的字体。对于中文字符，你可能需要安装一个支持中文的字体，如 \"SimHei\"、\"SimSun\"、\"Microsoft YaHei\" 等。\n",
    "\n",
    "然后，你可以在你的代码中设置 Matplotlib 使用这个字体。这可以通过 `matplotlib.rcParams` 来实现，这是一个用于管理 Matplotlib 的全局配置的字典。\n",
    "\n",
    "以下是一个简单的示例：\n",
    "\n",
    "```python\n",
    "import matplotlib\n",
    "matplotlib.rcParams['font.sans-serif'] = ['SimHei']  # 设置字体为 SimHei\n",
    "matplotlib.rcParams['axes.unicode_minus'] = False  # 解决负号'-'显示为方块的问题\n",
    "```\n",
    "\n",
    "然后，你就可以绘制包含中文字符的图表了。注意，你需要确保你选择的字体已经安装在你的环境中，并且支持你需要的字符。\n",
    "\n",
    "然而，在当前的环境中，我无法更改字体或安装新的字体。在你自己的环境中执行上述代码应该能解决这个问题。"
   ],
   "metadata": {
    "collapsed": false
   }
  },
  {
   "cell_type": "code",
   "execution_count": null,
   "outputs": [],
   "source": [],
   "metadata": {
    "collapsed": false
   }
  }
 ],
 "metadata": {
  "kernelspec": {
   "display_name": "Python 3",
   "language": "python",
   "name": "python3"
  },
  "language_info": {
   "codemirror_mode": {
    "name": "ipython",
    "version": 2
   },
   "file_extension": ".py",
   "mimetype": "text/x-python",
   "name": "python",
   "nbconvert_exporter": "python",
   "pygments_lexer": "ipython2",
   "version": "2.7.6"
  }
 },
 "nbformat": 4,
 "nbformat_minor": 0
}
